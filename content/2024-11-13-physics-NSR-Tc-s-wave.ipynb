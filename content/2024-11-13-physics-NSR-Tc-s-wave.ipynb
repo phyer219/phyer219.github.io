{
 "cells": [
  {
   "cell_type": "markdown",
   "metadata": {
    "categories": "专业笔记",
    "date": "2024/11/13",
    "tags": [
     "NSR",
     "s-wave",
     "BEC-BCS crossover"
    ],
    "title": "NSR 计算 s-wave BEC-BCS crossover 的临界温度"
   },
   "source": [
    "METADATA"
   ]
  },
  {
   "cell_type": "markdown",
   "metadata": {},
   "source": [
    "## NSR"
   ]
  },
  {
   "cell_type": "code",
   "execution_count": 2,
   "metadata": {},
   "outputs": [
    {
     "name": "stdout",
     "output_type": "stream",
     "text": [
      "1\n"
     ]
    }
   ],
   "source": [
    " print(1)"
   ]
  },
  {
   "cell_type": "markdown",
   "metadata": {},
   "source": [
    "## Reference\n",
    "\n",
    "- Zee, A. Group Theory in a Nutshell for Physicists. (Princeton University Press, Princeton, 2016)."
   ]
  },
  {
   "cell_type": "markdown",
   "metadata": {},
   "source": []
  }
 ],
 "metadata": {
  "kernelspec": {
   "display_name": "sci",
   "language": "python",
   "name": "python3"
  },
  "language_info": {
   "codemirror_mode": {
    "name": "ipython",
    "version": 3
   },
   "file_extension": ".py",
   "mimetype": "text/x-python",
   "name": "python",
   "nbconvert_exporter": "python",
   "pygments_lexer": "ipython3",
   "version": "3.10.15"
  }
 },
 "nbformat": 4,
 "nbformat_minor": 2
}
