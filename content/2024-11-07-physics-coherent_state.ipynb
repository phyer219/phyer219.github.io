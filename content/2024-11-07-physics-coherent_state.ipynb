{
 "cells": [
  {
   "cell_type": "markdown",
   "metadata": {
    "categories": "专业笔记",
    "date": "2024/11/07",
    "tags": [
     "coherent state",
     "harmonic oscillator"
    ],
    "title": "相干态总结"
   },
   "source": [
    "METADATA"
   ]
  },
  {
   "cell_type": "markdown",
   "metadata": {},
   "source": [
    "## Displacement operator\n",
    "\n",
    "$$\n",
    "D(\\alpha) = e^{\\alpha a^{\\dagger} - \\alpha^* a}\n",
    "$$\n",
    "\n",
    "$$\n",
    "\\alpha a^{\\dagger} - \\alpha^* a = \\mathrm{i} (\\mathrm{Im}[\\alpha] x\n",
    " - \\mathrm{Re}[\\alpha]p)\n",
    "$$\n",
    "\n",
    "$$\n",
    "e^{\\mathrm{i} a p } \\sim 1 - \\mathrm{i} a p = 1 - a \\frac{\\partial}{\\partial x}\n",
    "$$\n",
    "\n",
    "$$\n",
    "e^{\\mathrm{i} a p } f(x)\\sim f(x) - a \\frac{\\partial}{\\partial x} f(x) = f(x - a)\n",
    "$$"
   ]
  },
  {
   "cell_type": "markdown",
   "metadata": {},
   "source": [
    "## Reference\n",
    "\n",
    "- [Wikipedia: Displacement operator](https://en.wikipedia.org/wiki/Displacement_operator)\n",
    "- [Wikipedia: Coherent state](https://en.wikipedia.org/wiki/Coherent_state)"
   ]
  },
  {
   "cell_type": "markdown",
   "metadata": {},
   "source": []
  }
 ],
 "metadata": {
  "kernelspec": {
   "display_name": "sci",
   "language": "python",
   "name": "python3"
  },
  "language_info": {
   "codemirror_mode": {
    "name": "ipython",
    "version": 3
   },
   "file_extension": ".py",
   "mimetype": "text/x-python",
   "name": "python",
   "nbconvert_exporter": "python",
   "pygments_lexer": "ipython3",
   "version": "3.10.13"
  }
 },
 "nbformat": 4,
 "nbformat_minor": 2
}
