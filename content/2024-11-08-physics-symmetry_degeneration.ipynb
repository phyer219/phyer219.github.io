{
 "cells": [
  {
   "cell_type": "markdown",
   "metadata": {
    "categories": "专业笔记",
    "date": "2024/11/08",
    "tags": [
     "symmetry",
     "degeneration",
     "group theory"
    ],
    "title": "Symmetry and Degeneration"
   },
   "source": [
    "METADATA"
   ]
  },
  {
   "cell_type": "markdown",
   "metadata": {},
   "source": [
    "## 群的不可约表示，哈密顿量，态矢"
   ]
  },
  {
   "cell_type": "markdown",
   "metadata": {
    "vscode": {
     "languageId": "plaintext"
    }
   },
   "source": [
    "### 系统(哈密顿量)的对称性\n",
    "\n",
    "哈密顿量 $\\hat{H}$ 的所有对称性构成群 $G$. $H$ 在 $G$ 中的任意一个群元 $g$ 的变换下保持不变.\n",
    "群 $G$ 中的任意群元 $g$ 都满足\n",
    "$$\n",
    "g \\hat{H} g^{-1} = \\hat{H}, \\quad\\mathrm{or}\\quad g \\hat{H} = \\hat{H} g\n",
    "$$\n",
    "也就是说 $g$ 和 ${H}$ 对易.\n",
    "\n",
    "哈密顿量 $\\hat{H}$ 也可以看成是一个变化操作, 它和群 $G$ 作用在相同的空间, 但它不在群 $G$ 中. 它的物理意义是系统的时间演化算符的生成元, 即薛定谔方程,\n",
    "$$\n",
    "\\mathrm{i}\\frac{\\partial}{\\partial t}|\\psi(t)\\rangle = \\hat{H} |\\psi(t)\\rangle\n",
    "$$"
   ]
  },
  {
   "cell_type": "markdown",
   "metadata": {},
   "source": [
    "### 群的表示与基底\n",
    "\n",
    "有限群有幺正表示(finite groups have unitary representations (Zee, 2016, p. 96)).\n",
    "下面考虑的都群的幺正表示.\n",
    "\n",
    "选取 $\\hat{H}$ 的本征态作为一组基底,哈密顿量在这组基底下的表示矩阵 $H$ ($H$ 是矩阵, $\\hat{H}$ 是算符) 是对角的.\n",
    "同时这组基底也负载了群的表示, 群元 $g$ 的表示矩阵 $D(g)$."
   ]
  },
  {
   "cell_type": "markdown",
   "metadata": {
    "vscode": {
     "languageId": "plaintext"
    }
   },
   "source": [
    "### 一维表示\n",
    "\n",
    "一维的希尔伯特空间, 基底只有一个, 记为 $|1 \\rangle$ , 这个希尔伯特空间中所有的都是这个态处在不同的相位上,标记一个态只需要用相位 $\\theta$ 这一个参数\n",
    "$$\n",
    "|\\theta\\rangle = e^{\\mathrm{i}\\theta}|1\\rangle\n",
    "$$\n",
    "对于一维的希尔伯特空间, 哈密顿量只能是一个常数. 此时系统具有 $U(1)$ 对称性. $U(1)$ 是一个阿贝尔的群, 只有一维表示. 基底 $\\{|1 \\rangle\\}$ 负载这个以为表示, 群元 $g(\\theta)$ 在这个基底下的表示为\n",
    "$$\n",
    "D[g(\\theta)]  = e^{\\mathrm{i}\\theta}\n",
    "$$\n",
    "对于给定群元 $g(\\theta)$, 它是一个数."
   ]
  },
  {
   "cell_type": "markdown",
   "metadata": {},
   "source": [
    "## 二维表示\n",
    "\n",
    "基底有两个, 记为 $\\{|\\uparrow \\rangle, |\\downarrow\\rangle\\}$."
   ]
  },
  {
   "cell_type": "markdown",
   "metadata": {},
   "source": [
    "## Reference\n",
    "\n",
    "- Zee, A. Group Theory in a Nutshell for Physicists. (Princeton University Press, Princeton, 2016)."
   ]
  },
  {
   "cell_type": "markdown",
   "metadata": {},
   "source": []
  }
 ],
 "metadata": {
  "kernelspec": {
   "display_name": "sci",
   "language": "python",
   "name": "python3"
  },
  "language_info": {
   "codemirror_mode": {
    "name": "ipython",
    "version": 3
   },
   "file_extension": ".py",
   "mimetype": "text/x-python",
   "name": "python",
   "nbconvert_exporter": "python",
   "pygments_lexer": "ipython3",
   "version": "3.10.13"
  }
 },
 "nbformat": 4,
 "nbformat_minor": 2
}
